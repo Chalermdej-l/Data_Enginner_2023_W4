{
 "cells": [
  {
   "cell_type": "code",
   "execution_count": 1,
   "metadata": {},
   "outputs": [],
   "source": [
    "# Create an VM intance on GCP\n",
    "# Then connect to the GCP and install terraform by\n",
    "# 1.wget https://releases.hashicorp.com/terraform/1.3.7/terraform_1.3.7_linux_386.zip\n",
    "# 2.chmod u+x \"terraform_1.3.7_linix_386.zip\"\n",
    "# 3.unzip terraform_1.3.7_linux_386.zip\n",
    "# 4.nano .bashrc then add terraform to path and run source .bashrc to reset the path\n",
    "# 5.Upload the file into the vm and run the terraform command\n",
    "# gcloud auth application-default login \n",
    "# terraform init\n",
    "# terraform plan -var=\"project=\tquantum-plasma-376313\"\n",
    "# terraform apply -var=\"project=\tquantum-plasma-376313\"\n",
    "\n",
    "# Output\n",
    "# Apply complete! Resources: 2 added, 0 changed, 0 destroyed."
   ]
  },
  {
   "cell_type": "code",
   "execution_count": null,
   "metadata": {},
   "outputs": [],
   "source": []
  }
 ],
 "metadata": {
  "kernelspec": {
   "display_name": "Python 3.9.7 64-bit",
   "language": "python",
   "name": "python3"
  },
  "language_info": {
   "codemirror_mode": {
    "name": "ipython",
    "version": 3
   },
   "file_extension": ".py",
   "mimetype": "text/x-python",
   "name": "python",
   "nbconvert_exporter": "python",
   "pygments_lexer": "ipython3",
   "version": "3.9.7"
  },
  "orig_nbformat": 4,
  "vscode": {
   "interpreter": {
    "hash": "601b049b69c015f341cf049bdfa863242bcd463fff4e9ea5ae96948b9f5d87db"
   }
  }
 },
 "nbformat": 4,
 "nbformat_minor": 2
}
